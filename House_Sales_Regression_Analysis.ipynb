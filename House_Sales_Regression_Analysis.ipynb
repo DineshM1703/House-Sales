{
 "cells": [
  {
   "cell_type": "markdown",
   "id": "8e23f5d3",
   "metadata": {},
   "source": [
    "# House Sales Analysis in King County"
   ]
  },
  {
   "cell_type": "markdown",
   "id": "85bc492c",
   "metadata": {},
   "source": [
    "## Step 1: Load and Preview Dataset"
   ]
  },
  {
   "cell_type": "code",
   "execution_count": null,
   "id": "a8cc21cc",
   "metadata": {},
   "outputs": [],
   "source": [
    "import pandas as pd\n",
    "import seaborn as sns\n",
    "import matplotlib.pyplot as plt\n",
    "from sklearn.linear_model import LinearRegression, Ridge\n",
    "from sklearn.model_selection import train_test_split\n",
    "from sklearn.pipeline import Pipeline\n",
    "from sklearn.preprocessing import StandardScaler, PolynomialFeatures\n",
    "\n",
    "# Load dataset\n",
    "df = pd.read_csv('kc_house_data.csv')\n",
    "df.head()"
   ]
  },
  {
   "cell_type": "markdown",
   "id": "e6a2a807",
   "metadata": {},
   "source": [
    "## Step 2: Check Data Types"
   ]
  },
  {
   "cell_type": "code",
   "execution_count": null,
   "id": "8dbc65df",
   "metadata": {},
   "outputs": [],
   "source": [
    "df.dtypes"
   ]
  },
  {
   "cell_type": "markdown",
   "id": "1d046d3a",
   "metadata": {},
   "source": [
    "## Step 3: Clean and Describe Dataset"
   ]
  },
  {
   "cell_type": "code",
   "execution_count": null,
   "id": "a346bca1",
   "metadata": {},
   "outputs": [],
   "source": [
    "df.drop(['id', 'Unnamed: 0'], axis=1, inplace=True, errors='ignore')\n",
    "df.describe()"
   ]
  },
  {
   "cell_type": "markdown",
   "id": "af628584",
   "metadata": {},
   "source": [
    "## Step 4: Count Unique Floor Values"
   ]
  },
  {
   "cell_type": "code",
   "execution_count": null,
   "id": "e071a080",
   "metadata": {},
   "outputs": [],
   "source": [
    "df['floors'].value_counts().to_frame()"
   ]
  },
  {
   "cell_type": "markdown",
   "id": "3e6ed358",
   "metadata": {},
   "source": [
    "## Step 5: Boxplot of Price by Waterfront"
   ]
  },
  {
   "cell_type": "code",
   "execution_count": null,
   "id": "148ffe85",
   "metadata": {},
   "outputs": [],
   "source": [
    "sns.boxplot(x='waterfront', y='price', data=df)\n",
    "plt.title('Boxplot of Price by Waterfront')\n",
    "plt.tight_layout()\n",
    "plt.show()"
   ]
  },
  {
   "cell_type": "markdown",
   "id": "6f61803f",
   "metadata": {},
   "source": [
    "## Step 6: Regplot of sqft_above vs Price"
   ]
  },
  {
   "cell_type": "code",
   "execution_count": null,
   "id": "e060d478",
   "metadata": {},
   "outputs": [],
   "source": [
    "sns.regplot(x='sqft_above', y='price', data=df)\n",
    "plt.title('Regplot: sqft_above vs Price')\n",
    "plt.tight_layout()\n",
    "plt.show()"
   ]
  },
  {
   "cell_type": "markdown",
   "id": "fc5cb5de",
   "metadata": {},
   "source": [
    "## Step 7: Linear Regression on sqft_living"
   ]
  },
  {
   "cell_type": "code",
   "execution_count": null,
   "id": "d59b7618",
   "metadata": {},
   "outputs": [],
   "source": [
    "X = df[['sqft_living']]\n",
    "y = df['price']\n",
    "lm = LinearRegression()\n",
    "lm.fit(X, y)\n",
    "lm.score(X, y)  # R²"
   ]
  },
  {
   "cell_type": "markdown",
   "id": "090acde4",
   "metadata": {},
   "source": [
    "## Step 8: Multiple Linear Regression"
   ]
  },
  {
   "cell_type": "code",
   "execution_count": null,
   "id": "8b1039fb",
   "metadata": {},
   "outputs": [],
   "source": [
    "features = ['floors', 'waterfront', 'lat', 'bedrooms', 'sqft_basement',\n",
    "            'view', 'bathrooms', 'sqft_living15', 'sqft_above', 'grade', 'sqft_living']\n",
    "X_mult = df[features]\n",
    "y_mult = df['price']\n",
    "lm.fit(X_mult, y_mult)\n",
    "lm.score(X_mult, y_mult)"
   ]
  },
  {
   "cell_type": "markdown",
   "id": "b3e2f985",
   "metadata": {},
   "source": [
    "## Step 9: Polynomial Regression Pipeline"
   ]
  },
  {
   "cell_type": "code",
   "execution_count": null,
   "id": "e8dd95b8",
   "metadata": {},
   "outputs": [],
   "source": [
    "pipe = Pipeline([\n",
    "    ('scale', StandardScaler()),\n",
    "    ('poly', PolynomialFeatures(degree=2)),\n",
    "    ('model', LinearRegression())\n",
    "])\n",
    "pipe.fit(X_mult, y_mult)\n",
    "pipe.score(X_mult, y_mult)"
   ]
  },
  {
   "cell_type": "markdown",
   "id": "76ad4e9d",
   "metadata": {},
   "source": [
    "## Step 10: Ridge Regression"
   ]
  },
  {
   "cell_type": "code",
   "execution_count": null,
   "id": "1af9d98a",
   "metadata": {},
   "outputs": [],
   "source": [
    "X_train, X_test, y_train, y_test = train_test_split(X_mult, y_mult, test_size=0.2, random_state=1)\n",
    "ridge = Ridge(alpha=0.1)\n",
    "ridge.fit(X_train, y_train)\n",
    "ridge.score(X_test, y_test)"
   ]
  },
  {
   "cell_type": "markdown",
   "id": "34daba16",
   "metadata": {},
   "source": [
    "## Step 11: Polynomial + Ridge Regression"
   ]
  },
  {
   "cell_type": "code",
   "execution_count": null,
   "id": "39db0c03",
   "metadata": {},
   "outputs": [],
   "source": [
    "poly2 = PolynomialFeatures(degree=2)\n",
    "X_train_poly = poly2.fit_transform(X_train)\n",
    "X_test_poly = poly2.transform(X_test)\n",
    "ridge.fit(X_train_poly, y_train)\n",
    "ridge.score(X_test_poly, y_test)"
   ]
  }
 ],
 "metadata": {},
 "nbformat": 4,
 "nbformat_minor": 5
}
